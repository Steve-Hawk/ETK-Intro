{
 "cells": [
  {
   "cell_type": "markdown",
   "metadata": {},
   "source": [
    "# Einstein-Toolkit Setup & Initial Running\n",
    "- Follow the official beginning setup procedure to download all the necessary modules and files\n",
    "- May come across some svn downloading problems(seemingly all the repositories has removed to the github & bitbucket)\n",
    "- When the downloading and initial procedure is over, check the address *Cactus/simfactory/mdb/optionlists* to find the related system needed compiled tools from various repository(accelerate following compiling process)"
   ]
  },
  {
   "cell_type": "markdown",
   "metadata": {},
   "source": [
    "## GetComponents Introduction\n",
    "- An Perl script program to extract all the distributed Cactus thorns on the Internet\n",
    "- It uses The Component Retrieval Language\n",
    "    - identify the URL of a repository;\n",
    "    - the version control system being used;\n",
    "    - the target location on the local machine;\n",
    "    - ...\n",
    "- It functions together with the script einsteintoolkit.th(May be your defined settings)\n",
    "    - GetComponents extract the information inside the einsteintoolkit.th to download "
   ]
  },
  {
   "cell_type": "code",
   "execution_count": 1,
   "metadata": {},
   "outputs": [],
   "source": [
    "# ./GetComponents --update einsteintoolkit.th"
   ]
  },
  {
   "cell_type": "code",
   "execution_count": 2,
   "metadata": {},
   "outputs": [],
   "source": [
    "#!./simfactory/bin/sim setup-silent --setup-email=ewest@d.umn.edu"
   ]
  },
  {
   "cell_type": "markdown",
   "metadata": {},
   "source": [
    "Using the above command to configure the Simfactory (Einstein-Toolkit Compiling Tools) , and email is your self-defined email address(it will be convenient for you to recevie some notification about the modification)\n",
    "- There will be a user configuration file in the address *simfactory/mdb/machines/< your machine name >* , check the file content, and it you want to change the default folder containing the simulation outout data \n",
    "    - the key-value relation is: **basedir = < give your folder name >** , else the default folder name is simulations (in your home folder)\n",
    "    - the compiling options can be checked, and the default option follows < Cactus/simfactory/mdb/optionlists/generic.cfg >"
   ]
  },
  {
   "cell_type": "markdown",
   "metadata": {},
   "source": [
    "By running below command to see avaiable optinos:"
   ]
  },
  {
   "cell_type": "code",
   "execution_count": 1,
   "metadata": {},
   "outputs": [],
   "source": [
    "# ./simfactoryy/bin/sim "
   ]
  },
  {
   "cell_type": "markdown",
   "metadata": {},
   "source": [
    "## Concepts\n",
    "- The ./simfactory/bin/sim is a binary(shell script) points to ./simfactory/lib/sim.py file\n",
    "\n",
    "### Simfactory Introduction\n",
    "- All SimFactory commands should be executed from your Cactus directory. SimFactory commands are executed as follow:\n",
    "    - sim command \\[ options \\]\n",
    "    \n",
    "### some useful commands & options\n",
    "- Avaiable Commands:\n",
    "    - build                                   ---   build cactus either locally or remotely\n",
    "    - create(create-run/create-submit)                                        ---   create a simulation\n",
    "    - list-configurations                             ---   list simfactory cactus configurations\n",
    "    - setup                                   ---   interactively configure simfactory\n",
    "    - setup-silent                                    ---    silently create a set of reasonable defaults\n",
    "- Avaiable Options:\n",
    "    - --basedir=< directory >                     --- Base directory for simulations\n",
    "    - --thornlist=< file >     --- ThornList file for building Cactus\n",
    "    \n",
    "build command can be interpreted as compiling procedure.\n",
    "\n",
    "A simulation can be created using the create command. SimFactory needs to know a name for the simulation as well as what parameter file to use. You can either specify the name on the command line and give the parameter file with the --parfile option, or you can give the path to the parameter file directly, and SimFactory will use the parameter file name (without an extension) as the simulation name\n",
    "\n",
    "- The show-output command will show the output of a simulation if it has started running(text output)"
   ]
  },
  {
   "cell_type": "code",
   "execution_count": null,
   "metadata": {},
   "outputs": [],
   "source": [
    "#!./simfactory/bin/sim build -j2 --thornlist=thornlists/einsteintoolkit.th"
   ]
  },
  {
   "cell_type": "markdown",
   "metadata": {},
   "source": [
    "The above command **build** Cactus using our thornlist (recommended to use Einstein-Toolkit total necessary thorns), since different thorns have a dependence with some base thorns\n",
    "- in the **'Cactus/configs/sim'** directory, there is a ThornList. It contains the list of thorns Cactus will compile."
   ]
  },
  {
   "cell_type": "markdown",
   "metadata": {},
   "source": [
    "### Writing your .par file\n",
    "- the .par file recommends to be writen using the language of Python & Perl,but inside the specific syntax, if you want to use the standard Cactus variable. You need to read the reference to modify a little."
   ]
  },
  {
   "cell_type": "code",
   "execution_count": null,
   "metadata": {},
   "outputs": [],
   "source": []
  }
 ],
 "metadata": {
  "kernelspec": {
   "display_name": "Python 3",
   "language": "python",
   "name": "python3"
  },
  "language_info": {
   "codemirror_mode": {
    "name": "ipython",
    "version": 3
   },
   "file_extension": ".py",
   "mimetype": "text/x-python",
   "name": "python",
   "nbconvert_exporter": "python",
   "pygments_lexer": "ipython3",
   "version": "3.7.2"
  }
 },
 "nbformat": 4,
 "nbformat_minor": 2
}
