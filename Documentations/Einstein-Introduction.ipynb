{
 "cells": [
  {
   "cell_type": "markdown",
   "metadata": {},
   "source": [
    "# Einstein-Toolkit Setup & Initial Running\n",
    "- Follow the official beginning setup procedure to download all the necessary modules and files\n",
    "- May come across some svn downloading problems(seemingly all the repositories has removed to the github & bitbucket)\n",
    "- When the downloading and initial procedure is over, check the address *Cactus/simfactory/mdb/optionlists* to find the related system needed compiled tools from various repository(accelerate following compiling process)"
   ]
  },
  {
   "cell_type": "code",
   "execution_count": 2,
   "metadata": {},
   "outputs": [],
   "source": [
    "#!./simfactory/bin/sim setup-silent --setup-email=ewest@d.umn.edu"
   ]
  },
  {
   "cell_type": "markdown",
   "metadata": {},
   "source": [
    "Using the above command to configure the Simfactory (Einstein-Toolkit Compiling Tools) , and email is your self-defined email address(it will be convenient for you to recevie some notification about the modification)\n",
    "- There will be a user configuration file in the address *simfactory/mdb/machines/< your machine name >* , check the file content, and it you want to change the default folder containing the simulation outout data \n",
    "    - the key-value relation is: basedir = < give your folder name >, else the default folder name is simulations (in your home folder)\n",
    "    - the compiling options can be checked, and the default option follows < Cactus/simfactory/mdb/optionlists/generic.cfg >"
   ]
  },
  {
   "cell_type": "code",
   "execution_count": null,
   "metadata": {},
   "outputs": [],
   "source": [
    "#!./simfactory/bin/sim build -j2 --thornlist=thornlists/einsteintoolkit.th"
   ]
  },
  {
   "cell_type": "markdown",
   "metadata": {},
   "source": [
    "The above command **build** Cactus using our thornlist (recommended to use Einstein-Toolkit total necessary thorns), since different thorns have a dependence with some base thorns\n",
    "- in the 'Cactus/configs/sim' directory, there is a ThornList. It contains the list of thorns Cactus will compile."
   ]
  },
  {
   "cell_type": "code",
   "execution_count": null,
   "metadata": {},
   "outputs": [],
   "source": []
  }
 ],
 "metadata": {
  "kernelspec": {
   "display_name": "Python 3",
   "language": "python",
   "name": "python3"
  },
  "language_info": {
   "codemirror_mode": {
    "name": "ipython",
    "version": 3
   },
   "file_extension": ".py",
   "mimetype": "text/x-python",
   "name": "python",
   "nbconvert_exporter": "python",
   "pygments_lexer": "ipython3",
   "version": "3.7.2"
  }
 },
 "nbformat": 4,
 "nbformat_minor": 2
}
